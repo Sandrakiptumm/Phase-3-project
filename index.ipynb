{
 "cells": [
  {
   "cell_type": "markdown",
   "metadata": {},
   "source": [
    "Build a classifier to predict whether a customer will (\"soon\") stop doing business with SyriaTel, a telecommunications company.</br>\n",
    "\n",
    "Business Understanding</br>\n",
    "\n",
    "Overview \n",
    "\n",
    "\n",
    "Challenges\n",
    "\n",
    "\n",
    "Proposed Solution (Metrics; Accuracy Score: 80%)\n",
    "Brief Conclusion\n",
    "\n",
    "Problem Statement (Paragraph)\n",
    "Objectives (To …, Sequential)\n"
   ]
  },
  {
   "cell_type": "markdown",
   "metadata": {},
   "source": [
    "\n",
    "Data Understanding\n",
    "\n",
    "Sources (scrapped, consumed API, download)\n",
    "\n",
    "the data used for this project(Churn in Telecom's dataset) was obtained from kaggle.</br>\n",
    "it is also the the dataset reccomended that we use </br>\n",
    "\n",
    "Columns (meaning of the columns)\n",
    "\n",
    "it contains various 21 columns including what we will use as our target variable </br>\n",
    "the other 20 columns may be useful as the precictors during modelling </br>\n",
    "below is a rundown of what each column represents:</br>\n",
    "\n",
    "'state' - \n",
    "'account length'\n",
    "'area code'\n",
    "'phone number'\n",
    "'international plan'\n",
    "'voice mail plan'\n",
    "'number vmail messages'\n",
    "'total day minutes'\n",
    "'total day calls'\n",
    "'total day charge'\n",
    "'total eve minutes'\n",
    "'total eve calls'\n",
    "'total eve charge'\n",
    "'total night minutes'\n",
    "'total night calls'\n",
    "'total night charge'\n",
    "'total intl minutes'\n",
    "'total intl calls'\n",
    "'total intl charge'\n",
    "'customer service calls'\n",
    "'churn\n",
    "\n",
    "\n",
    "Data Preparation (Data Cleaning)\n",
    "\tLoading of Dataset\n",
    "\tDescribe, info, shape,\n",
    "\tMissing, Duplicate, Null Values\n",
    "\tOutliers\n",
    "\tCriteria for dealing with missing values (drop, impute (back/forward fill), use none/zeros)\n",
    "\tOutliers\n"
   ]
  },
  {
   "cell_type": "code",
   "execution_count": 2,
   "metadata": {},
   "outputs": [],
   "source": [
    "# importing neccesary modules \n",
    "import pandas as pd\n",
    "import numpy as np\n"
   ]
  },
  {
   "cell_type": "code",
   "execution_count": 11,
   "metadata": {},
   "outputs": [
    {
     "data": {
      "text/plain": [
       "Index(['state', 'account length', 'area code', 'phone number',\n",
       "       'international plan', 'voice mail plan', 'number vmail messages',\n",
       "       'total day minutes', 'total day calls', 'total day charge',\n",
       "       'total eve minutes', 'total eve calls', 'total eve charge',\n",
       "       'total night minutes', 'total night calls', 'total night charge',\n",
       "       'total intl minutes', 'total intl calls', 'total intl charge',\n",
       "       'customer service calls', 'churn'],\n",
       "      dtype='object')"
      ]
     },
     "execution_count": 11,
     "metadata": {},
     "output_type": "execute_result"
    }
   ],
   "source": [
    "data = pd.read_csv(\"data.csv\")\n",
    "data.columns"
   ]
  },
  {
   "cell_type": "code",
   "execution_count": 7,
   "metadata": {},
   "outputs": [
    {
     "data": {
      "text/plain": [
       "(3333, 21)"
      ]
     },
     "execution_count": 7,
     "metadata": {},
     "output_type": "execute_result"
    }
   ],
   "source": [
    "data.shape"
   ]
  },
  {
   "cell_type": "code",
   "execution_count": 9,
   "metadata": {},
   "outputs": [
    {
     "name": "stdout",
     "output_type": "stream",
     "text": [
      "<class 'pandas.core.frame.DataFrame'>\n",
      "RangeIndex: 3333 entries, 0 to 3332\n",
      "Data columns (total 21 columns):\n",
      " #   Column                  Non-Null Count  Dtype  \n",
      "---  ------                  --------------  -----  \n",
      " 0   state                   3333 non-null   object \n",
      " 1   account length          3333 non-null   int64  \n",
      " 2   area code               3333 non-null   int64  \n",
      " 3   phone number            3333 non-null   object \n",
      " 4   international plan      3333 non-null   object \n",
      " 5   voice mail plan         3333 non-null   object \n",
      " 6   number vmail messages   3333 non-null   int64  \n",
      " 7   total day minutes       3333 non-null   float64\n",
      " 8   total day calls         3333 non-null   int64  \n",
      " 9   total day charge        3333 non-null   float64\n",
      " 10  total eve minutes       3333 non-null   float64\n",
      " 11  total eve calls         3333 non-null   int64  \n",
      " 12  total eve charge        3333 non-null   float64\n",
      " 13  total night minutes     3333 non-null   float64\n",
      " 14  total night calls       3333 non-null   int64  \n",
      " 15  total night charge      3333 non-null   float64\n",
      " 16  total intl minutes      3333 non-null   float64\n",
      " 17  total intl calls        3333 non-null   int64  \n",
      " 18  total intl charge       3333 non-null   float64\n",
      " 19  customer service calls  3333 non-null   int64  \n",
      " 20  churn                   3333 non-null   bool   \n",
      "dtypes: bool(1), float64(8), int64(8), object(4)\n",
      "memory usage: 524.2+ KB\n"
     ]
    }
   ],
   "source": [
    "# lets check for null values\n",
    "data.info()"
   ]
  },
  {
   "cell_type": "markdown",
   "metadata": {},
   "source": [
    "As we ca see we have no null values. </br>\n",
    "\n",
    "we can also see that the data tpes are in the all the right formats \n"
   ]
  },
  {
   "cell_type": "code",
   "execution_count": null,
   "metadata": {},
   "outputs": [],
   "source": [
    "# checking for outliers\n"
   ]
  }
 ],
 "metadata": {
  "kernelspec": {
   "display_name": "learn-env",
   "language": "python",
   "name": "python3"
  },
  "language_info": {
   "codemirror_mode": {
    "name": "ipython",
    "version": 3
   },
   "file_extension": ".py",
   "mimetype": "text/x-python",
   "name": "python",
   "nbconvert_exporter": "python",
   "pygments_lexer": "ipython3",
   "version": "3.8.5"
  }
 },
 "nbformat": 4,
 "nbformat_minor": 2
}
